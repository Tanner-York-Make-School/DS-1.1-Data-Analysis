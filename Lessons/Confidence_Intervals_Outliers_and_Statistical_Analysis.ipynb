{
 "cells": [
  {
   "cell_type": "markdown",
   "metadata": {},
   "source": [
    "# Confidence Intervals, Outliers, and Statistical Analysis"
   ]
  },
  {
   "cell_type": "code",
   "execution_count": 1,
   "metadata": {},
   "outputs": [],
   "source": [
    "import pandas as pd\n",
    "import numpy as np\n",
    "import matplotlib.pyplot as plt\n",
    "from scipy import stats\n",
    "\n",
    "df = pd.read_csv('../Data/BrainSize.csv', sep=';', na_values='.')"
   ]
  },
  {
   "cell_type": "markdown",
   "metadata": {},
   "source": [
    "### Review Activity: Calculate the T_test for male and female VIQ"
   ]
  },
  {
   "cell_type": "code",
   "execution_count": 2,
   "metadata": {},
   "outputs": [
    {
     "data": {
      "text/plain": [
       "Ttest_indResult(statistic=0.7726161723275011, pvalue=0.44452876778583217)"
      ]
     },
     "execution_count": 2,
     "metadata": {},
     "output_type": "execute_result"
    }
   ],
   "source": [
    "male_viq = df[df['Gender'] == 'Male']['VIQ']\n",
    "female_viq = df[df['Gender'] == 'Female']['VIQ']\n",
    "\n",
    "stats.ttest_ind(male_viq, female_viq)"
   ]
  },
  {
   "cell_type": "markdown",
   "metadata": {},
   "source": [
    "### Review Activity: Calculate the T_test for male and female for all columns"
   ]
  },
  {
   "cell_type": "code",
   "execution_count": 3,
   "metadata": {
    "scrolled": true
   },
   "outputs": [
    {
     "name": "stdout",
     "output_type": "stream",
     "text": [
      "P_Value above 0.5 rejects that FSIQ are different for male and female\n",
      "P_Value above 0.5 rejects that VIQ are different for male and female\n",
      "P_Value above 0.5 rejects that PIQ are different for male and female\n",
      "P_Value above 0.5 rejects that Weight are different for male and female\n",
      "P_Value above 0.5 rejects that Height are different for male and female\n"
     ]
    }
   ],
   "source": [
    "for column in df.columns[2:len(df.columns)-1]:\n",
    "    male_column = df[df['Gender'] == 'Male'][column].dropna()\n",
    "    female_column = df[df['Gender'] == 'Female'][column].dropna()\n",
    "    ttest = stats.ttest_ind(male_column, female_column)\n",
    "\n",
    "    if ttest[0] < .05:\n",
    "        print('P_Value below 0.5 accepts that {} are different for male and female'.format(column))\n",
    "    else:\n",
    "        print('P_Value above 0.5 rejects that {} are different for male and female'.format(column))"
   ]
  },
  {
   "cell_type": "markdown",
   "metadata": {},
   "source": [
    "# Confidence Interval \n",
    "- A range of plausible values for an unknown parameter. The interval has an associated confidence level that the true parameter is in the proposed range.\n",
    "- Probability(lower bound < mean < upper bound) = 1 - x, where x is the significan levels\n",
    "- An example is when a game rolls out a new version, and you want to compare the play time between the old and new version. To do this you would ge the mean play time for each version and then compare the conficence interval for each version to see if the one's conficence bound is greatter than the other."
   ]
  },
  {
   "cell_type": "code",
   "execution_count": 4,
   "metadata": {},
   "outputs": [],
   "source": [
    "df = pd.read_csv('../Data/Iris.csv')"
   ]
  },
  {
   "cell_type": "markdown",
   "metadata": {},
   "source": [
    "### Activity: Calculating confidence interval for mean"
   ]
  },
  {
   "cell_type": "code",
   "execution_count": 5,
   "metadata": {},
   "outputs": [
    {
     "name": "stdout",
     "output_type": "stream",
     "text": [
      "(4.90683036358282, 5.10516963641718)\n"
     ]
    }
   ],
   "source": [
    "sepal_lengths = df[df['Species'] == 'Iris-setosa']['SepalLengthCm']\n",
    "standard = np.std(sepal_lengths, ddof=1)\n",
    "\n",
    "def ci_t(data_sample, significant_level):\n",
    "    t = stats.t.ppf(1- significant_level/2, len(data_sample)-1)\n",
    "    lower_bound = np.mean(data_sample) - t * np.std(data_sample) / np.sqrt(len(data_sample))\n",
    "    upper_bound = np.mean(data_sample) + t * np.std(data_sample) / np.sqrt(len(data_sample))\n",
    "    return lower_bound, upper_bound\n",
    "print(ci_t(sepal_lengths, 0.05))"
   ]
  },
  {
   "cell_type": "markdown",
   "metadata": {},
   "source": [
    "# Outlier Detection\n",
    "- outliers are extreem values that can skew our dataset. We need to find these values and remove them from the dataset."
   ]
  },
  {
   "cell_type": "markdown",
   "metadata": {},
   "source": [
    "### Activity: Create a function to find and remove all the outliers in our normalized dataset"
   ]
  },
  {
   "cell_type": "code",
   "execution_count": 6,
   "metadata": {},
   "outputs": [
    {
     "name": "stdout",
     "output_type": "stream",
     "text": [
      "[-5.0, 11.0, 14.0]\n"
     ]
    }
   ],
   "source": [
    "def find_remove_outliers(data_set):\n",
    "    data_mean, data_std = np.mean(data_set), np.std(data_set)\n",
    "    cut_off = data_std * 3\n",
    "    lower_bound, upper_bound = data_mean - cut_off, data_mean + cut_off\n",
    "    outliers = [value for value in data_set if value < lower_bound or value > upper_bound]\n",
    "    outliers_removed = [value for value in data_set if value > lower_bound and value < upper_bound]\n",
    "    return outliers, outliers_removed\n",
    "\n",
    "outliers = np.array([-5, 11, 14])\n",
    "data = np.concatenate((stats.norm.rvs(loc=5, scale=1, size=100), outliers))\n",
    "print(find_remove_outliers(data)[0])"
   ]
  },
  {
   "cell_type": "markdown",
   "metadata": {},
   "source": [
    "## Interquartile range (IQR)\n",
    "- We use IQR for finding and removing outliers when the data has any kind of distribution\n",
    "- John Tukey suggested to calculate the range between the first quartile (25%) and third quartile (75%) in the data, which is the IQR."
   ]
  },
  {
   "cell_type": "markdown",
   "metadata": {},
   "source": [
    "### Activity: Create a function that uses IQR for outlier detection and removal¶"
   ]
  },
  {
   "cell_type": "code",
   "execution_count": 7,
   "metadata": {},
   "outputs": [
    {
     "name": "stdout",
     "output_type": "stream",
     "text": [
      "IQR 1.4526527488240486\n",
      "[-5.0, 11.0, 14.0]\n",
      "IQR 1.4526527488240486\n"
     ]
    }
   ],
   "source": [
    "import numpy as np\n",
    "import scipy.stats\n",
    "\n",
    "def find_remove_outlier_iqr(data_sample):\n",
    "    # calculate interquartile range\n",
    "    q25, q75 = np.percentile(data_sample, 25), np.percentile(data_sample, 75)\n",
    "    iqr = q75 - q25\n",
    "    print('IQR', iqr)\n",
    "    # calculate the outlier cutoff\n",
    "    cut_off = iqr * 1.5\n",
    "    lower, upper = q25 - cut_off, q75 + cut_off\n",
    "    # identify  and remove outliers\n",
    "    outliers = [x for x in data_sample if x < lower or x > upper]\n",
    "    outliers_removed = [x for x in data_sample if x > lower and x < upper]\n",
    "    return outliers\n",
    "\n",
    "y = np.array([-5, 11, 14])\n",
    "x =  np.concatenate((scipy.stats.norm.rvs(loc=5 , scale=1 , size=100), y))\n",
    "print(find_remove_outlier_iqr(x))\n",
    "print('IQR', scipy.stats.iqr(x))"
   ]
  },
  {
   "cell_type": "markdown",
   "metadata": {},
   "source": [
    "## How do we visualize IQR?\n",
    "Answer: Box Plots use IQR already!"
   ]
  },
  {
   "cell_type": "code",
   "execution_count": 8,
   "metadata": {},
   "outputs": [
    {
     "data": {
      "image/png": "[encoded data removed]",
      "text/plain": [
       "<Figure size 432x288 with 1 Axes>"
      ]
     },
     "metadata": {
      "needs_background": "light"
     },
     "output_type": "display_data"
    }
   ],
   "source": [
    "import matplotlib.pyplot as plt\n",
    "plt.boxplot(x)\n",
    "plt.show()"
   ]
  },
  {
   "cell_type": "code",
   "execution_count": null,
   "metadata": {},
   "outputs": [],
   "source": []
  }
 ],
 "metadata": {
  "kernelspec": {
   "display_name": "Python 3",
   "language": "python",
   "name": "python3"
  },
  "language_info": {
   "codemirror_mode": {
    "name": "ipython",
    "version": 3
   },
   "file_extension": ".py",
   "mimetype": "text/x-python",
   "name": "python",
   "nbconvert_exporter": "python",
   "pygments_lexer": "ipython3",
   "version": "3.7.4"
  }
 },
 "nbformat": 4,
 "nbformat_minor": 2
}
